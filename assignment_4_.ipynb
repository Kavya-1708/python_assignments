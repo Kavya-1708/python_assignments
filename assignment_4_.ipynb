{
  "nbformat": 4,
  "nbformat_minor": 0,
  "metadata": {
    "colab": {
      "provenance": [],
      "authorship_tag": "ABX9TyOeiW6FKU8kDK5uugR1GCg+",
      "include_colab_link": true
    },
    "kernelspec": {
      "name": "python3",
      "display_name": "Python 3"
    },
    "language_info": {
      "name": "python"
    }
  },
  "cells": [
    {
      "cell_type": "markdown",
      "metadata": {
        "id": "view-in-github",
        "colab_type": "text"
      },
      "source": [
        "<a href=\"https://colab.research.google.com/github/Kavya-1708/python_assignments/blob/main/assignment_4_.ipynb\" target=\"_parent\"><img src=\"https://colab.research.google.com/assets/colab-badge.svg\" alt=\"Open In Colab\"/></a>"
      ]
    },
    {
      "cell_type": "markdown",
      "source": [
        "Create a class named parent_Class and inside the class, initialize a global\n",
        "variable num as 10\n",
        "a. Create another class named child_Class and this class should be\n",
        "inherited from the parent class.\n",
        "b. Now create an object for the child_Class and with the help of\n",
        "child_Class object, display the value of ‘num"
      ],
      "metadata": {
        "id": "_jgavdqgYDsG"
      }
    },
    {
      "cell_type": "code",
      "execution_count": 1,
      "metadata": {
        "colab": {
          "base_uri": "https://localhost:8080/"
        },
        "id": "z5uKJ8e4X7BT",
        "outputId": "b0b32229-fbee-4c8c-dd3b-8a2c01e5c482"
      },
      "outputs": [
        {
          "output_type": "stream",
          "name": "stdout",
          "text": [
            "The value of num is: 10\n"
          ]
        }
      ],
      "source": [
        "# Define the parent class\n",
        "class parent_Class:\n",
        "    num = 10  # Global variable\n",
        "\n",
        "# Define the child class that inherits from parent_Class\n",
        "class child_Class(parent_Class):\n",
        "    pass\n",
        "\n",
        "# Create an object of child_Class\n",
        "child_obj = child_Class()\n",
        "\n",
        "# Access and display the value of 'num' using child_Class object\n",
        "print(\"The value of num is:\", child_obj.num)\n"
      ]
    },
    {
      "cell_type": "markdown",
      "source": [
        "Create three classes named A, B and C\n",
        "\n",
        "a. Inside the A class, create a constructor. Inside the constructor, initialize 2 global variables name and age.\n",
        "\n",
        "b. After initializing the global variables inside the constructor, now create a function named ‘details’ and that function should return the ‘name’ variable.\n",
        "\n",
        "c. Inside the B class, create a constructor. Inside the constructor, initialize 2global variables name and id.\n",
        "\n",
        "d. After initializing the global variables inside the constructor, now create a function named 'details' and that function should return 'name' variable.\n",
        "\n",
        "e. The C class should inherit from class A, and B. Inside the class C,\n",
        "create a constructor, and inside the constructor, call the constructor of class A.\n",
        "\n",
        "f. Now, create a method inside the class C, as get_details, and this function should return the value of name.\n",
        "\n",
        "g. Atlast create an object of class C, and with the help of the object, call the get_details()"
      ],
      "metadata": {
        "id": "sI1pBjj5YWEp"
      }
    },
    {
      "cell_type": "code",
      "source": [
        "class A:\n",
        "    def __init__(self):\n",
        "        self.name = \"Alice\"\n",
        "        self.age = 30\n",
        "\n",
        "    def details(self):\n",
        "        return self.name\n",
        "\n",
        "class B:\n",
        "    def __init__(self):\n",
        "        self.name = \"Bob\"\n",
        "        self.id = 101\n",
        "\n",
        "    def details(self):\n",
        "        return self.name\n",
        "\n",
        "class C(A, B):\n",
        "    def __init__(self):\n",
        "        A.__init__(self)  # Calling constructor of class A\n",
        "\n",
        "    def get_details(self):\n",
        "        return self.name\n",
        "\n",
        "# Creating object of class C\n",
        "obj = C()\n",
        "\n",
        "# Calling get_details method\n",
        "print(obj.get_details())\n"
      ],
      "metadata": {
        "colab": {
          "base_uri": "https://localhost:8080/"
        },
        "id": "Wwj8d3GAYWZN",
        "outputId": "fe624217-e47d-4029-8f6f-c4bc7e8aaac1"
      },
      "execution_count": 2,
      "outputs": [
        {
          "output_type": "stream",
          "name": "stdout",
          "text": [
            "Alice\n"
          ]
        }
      ]
    },
    {
      "cell_type": "markdown",
      "source": [
        "Create a class named ‘Sub1’, inside the class, generate a user defined\n",
        "function named ‘first’ and inside the function, pass the following statement\n",
        "in the print()- ‘This is the first function from Sub 1 class’.\n",
        "a. Now create another class named ‘Sub2’, and inside the class, create a\n",
        "function named ‘second’, and pass the following message in the print()-\n",
        "‘This is the second function from the Sub 2 class’.\n",
        "b. After that, create another class named ‘Super’ and inside that class,\n",
        "create a method named ‘final’, and pass the below message in the print()-\n",
        "‘This is the final method from the super class’.\n",
        "c. Now, create an object for the Super class and call all the 3 user defined\n",
        "methods, i.e., first(), second(), and final()."
      ],
      "metadata": {
        "id": "SUKgnLezZU8A"
      }
    },
    {
      "cell_type": "code",
      "source": [
        "class Sub1:\n",
        "    def first(self):\n",
        "        print(\"This is the first function from Sub 1 class\")\n",
        "\n",
        "class Sub2:\n",
        "    def second(self):\n",
        "        print(\"This is the second function from the Sub 2 class\")\n",
        "\n",
        "class Super(Sub1, Sub2):\n",
        "    def final(self):\n",
        "        print(\"This is the final method from the super class\")\n",
        "\n",
        "# Creating object of Super class\n",
        "obj = Super()\n",
        "\n",
        "# Calling all three methods\n",
        "obj.first()\n",
        "obj.second()\n",
        "obj.final()\n"
      ],
      "metadata": {
        "colab": {
          "base_uri": "https://localhost:8080/"
        },
        "id": "f6DVHnnuZUQi",
        "outputId": "378e8348-a896-4bdc-d22b-571262a31006"
      },
      "execution_count": 3,
      "outputs": [
        {
          "output_type": "stream",
          "name": "stdout",
          "text": [
            "This is the first function from Sub 1 class\n",
            "This is the second function from the Sub 2 class\n",
            "This is the final method from the super class\n"
          ]
        }
      ]
    },
    {
      "cell_type": "markdown",
      "source": [
        "Create a class named ‘Parent’, and inside the class, create a function\n",
        "named ‘fun1’ and pass the following message in the print()- ‘This is the\n",
        "message from the fun1’.\n",
        "a. Now create a class named ‘Child1’ and inside the class, create a\n",
        "method named ‘fun2’ and pass the following message in the print()- ‘This is\n",
        "the message from the fun2’.\n",
        "b. After that, create another class named ‘Child2’ and inside the class,\n",
        "create a method named ‘fun3’ and pass the following message in the\n",
        "print()- ‘This is the message from the 'fun3'.\n",
        "c. Now, create an object of Child2 class and with the help of the object, call the 'fun1' method from the 'parent' class."
      ],
      "metadata": {
        "id": "mJ8W_eVHZeOj"
      }
    },
    {
      "cell_type": "code",
      "source": [
        "class Parent:\n",
        "    def fun1(self):\n",
        "        print(\"This is the message from the fun1\")\n",
        "\n",
        "class Child1:\n",
        "    def fun2(self):\n",
        "        print(\"This is the message from the fun2\")\n",
        "\n",
        "class Child2(Parent):  # Inheriting Parent so Child2 can access fun1\n",
        "    def fun3(self):\n",
        "        print(\"This is the message from the fun3\")\n",
        "\n",
        "# Create an object of Child2\n",
        "obj = Child2()\n",
        "\n",
        "# Call the fun1 method from Parent class using Child2 object\n",
        "obj.fun1()\n"
      ],
      "metadata": {
        "colab": {
          "base_uri": "https://localhost:8080/"
        },
        "id": "ZrCgZUMyZ9NV",
        "outputId": "b8b038e9-3df0-4625-bbfb-eb195333666a"
      },
      "execution_count": 4,
      "outputs": [
        {
          "output_type": "stream",
          "name": "stdout",
          "text": [
            "This is the message from the fun1\n"
          ]
        }
      ]
    },
    {
      "cell_type": "markdown",
      "source": [
        "Create a class named ‘Parent’, and inside the class, create a function\n",
        "named ‘fun1’ and pass the following message in the print()- ‘This is the\n",
        "message from the fun1’.\n",
        "a. Now create a class named ‘Child’ and inside the class, create a method\n",
        "named ‘fun2’ and pass the following message in the print()- ‘This is the\n",
        "message from the fun2’.\n",
        "b. After that, create another class named ‘Hybrid’ and inside the class,\n",
        "create a method named ‘fun3’ and pass the following message in the\n",
        "print()- ‘This is the message from the fun3’.\n",
        "c. Now create an object of Hybrid class and with the help of the object, call the ‘fun1’, ‘fun2’ and ‘fun3’ methods.\n"
      ],
      "metadata": {
        "id": "e6GDzMCnaDwV"
      }
    },
    {
      "cell_type": "code",
      "source": [
        "class Parent:\n",
        "    def fun1(self):\n",
        "        print(\"This is the message from the fun1\")\n",
        "\n",
        "class Child:\n",
        "    def fun2(self):\n",
        "        print(\"This is the message from the fun2\")\n",
        "\n",
        "class Hybrid(Parent, Child):\n",
        "    def fun3(self):\n",
        "        print(\"This is the message from the fun3\")\n",
        "\n",
        "# Create an object of Hybrid class\n",
        "obj = Hybrid()\n",
        "\n",
        "# Call all three methods using the Hybrid object\n",
        "obj.fun1()  # From Parent class\n",
        "obj.fun2()  # From Child class\n",
        "obj.fun3()  # From Hybrid class\n"
      ],
      "metadata": {
        "colab": {
          "base_uri": "https://localhost:8080/"
        },
        "id": "jR8vlxvcaHwk",
        "outputId": "5749486a-7daf-4cda-8be0-c70512a8b675"
      },
      "execution_count": 5,
      "outputs": [
        {
          "output_type": "stream",
          "name": "stdout",
          "text": [
            "This is the message from the fun1\n",
            "This is the message from the fun2\n",
            "This is the message from the fun3\n"
          ]
        }
      ]
    }
  ]
}