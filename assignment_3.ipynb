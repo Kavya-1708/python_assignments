{
  "nbformat": 4,
  "nbformat_minor": 0,
  "metadata": {
    "colab": {
      "provenance": [],
      "authorship_tag": "ABX9TyMLpzu8Wbu0dHTsbrOctkaG",
      "include_colab_link": true
    },
    "kernelspec": {
      "name": "python3",
      "display_name": "Python 3"
    },
    "language_info": {
      "name": "python"
    }
  },
  "cells": [
    {
      "cell_type": "markdown",
      "metadata": {
        "id": "view-in-github",
        "colab_type": "text"
      },
      "source": [
        "<a href=\"https://colab.research.google.com/github/Kavya-1708/python_assignments/blob/main/assignment_3.ipynb\" target=\"_parent\"><img src=\"https://colab.research.google.com/assets/colab-badge.svg\" alt=\"Open In Colab\"/></a>"
      ]
    },
    {
      "cell_type": "markdown",
      "source": [
        "Create a Python file named Module:\n",
        "a. Inside the file, define 4 methods named – addition, subtraction,\n",
        "multiplication, and division.\n",
        "b. Each method should only accept 2 arguments and should return the\n",
        "result of operation performed in each method. For e.g., addition() should\n",
        "return the sum of two arguments.\n",
        "c. Save the Module file in .py format.\n"
      ],
      "metadata": {
        "id": "fkJgiO5ZWubb"
      }
    },
    {
      "cell_type": "code",
      "execution_count": 2,
      "metadata": {
        "colab": {
          "base_uri": "https://localhost:8080/"
        },
        "id": "-5ZO_MZ7WI_T",
        "outputId": "b45df6a5-d480-4230-c787-998dfc54c5fe"
      },
      "outputs": [
        {
          "output_type": "stream",
          "name": "stdout",
          "text": [
            "Writing Module.py\n"
          ]
        }
      ],
      "source": [
        "# Create Module.py in Colab file system\n",
        "%%writefile Module.py\n",
        "\n",
        "def addition(a, b):\n",
        "    return a + b\n",
        "\n",
        "def subtraction(a, b):\n",
        "    return a - b\n",
        "\n",
        "def multiplication(a, b):\n",
        "    return a * b\n",
        "\n",
        "def division(a, b):\n",
        "    if b != 0:\n",
        "        return a / b\n",
        "    else:\n",
        "        return \"Cannot divide by zero\"\n",
        "\n"
      ]
    },
    {
      "cell_type": "markdown",
      "source": [
        "Open a new python file and import the Module.py file\n",
        "a. Now call the 4 methods from the module.py file i.e. addition(), subtraction(), multiplication() & division()"
      ],
      "metadata": {
        "id": "Z8kCtKNGWzGf"
      }
    },
    {
      "cell_type": "code",
      "source": [
        "import Module\n",
        "\n",
        "# Example usage\n",
        "print(Module.addition(15, 10))        # Output: 25\n",
        "print(Module.subtraction(15, 10))     # Output: 5\n",
        "print(Module.multiplication(15, 10))  # Output: 150\n",
        "print(Module.division(15, 5))         # Output: 3.0\n"
      ],
      "metadata": {
        "colab": {
          "base_uri": "https://localhost:8080/"
        },
        "id": "B6zLXZNbWXbT",
        "outputId": "8977d0a0-e6b1-4632-85b4-517c05b33766"
      },
      "execution_count": 3,
      "outputs": [
        {
          "output_type": "stream",
          "name": "stdout",
          "text": [
            "25\n",
            "5\n",
            "150\n",
            "3.0\n"
          ]
        }
      ]
    },
    {
      "cell_type": "markdown",
      "source": [
        "From the Module file, import only the addition() and pass the arguments so\n",
        "that it can display the result from the method.\n"
      ],
      "metadata": {
        "id": "bZ4dBmp-XVOt"
      }
    },
    {
      "cell_type": "code",
      "source": [
        "from Module import addition\n",
        "\n",
        "# Use the addition function\n",
        "result = addition(15, 10)\n",
        "print(\"The sum is:\", result)\n"
      ],
      "metadata": {
        "colab": {
          "base_uri": "https://localhost:8080/"
        },
        "id": "u_fflCaqXQ3S",
        "outputId": "8442b99f-152e-4d6e-a6f4-cde348e9d3b6"
      },
      "execution_count": 5,
      "outputs": [
        {
          "output_type": "stream",
          "name": "stdout",
          "text": [
            "The sum is: 25\n"
          ]
        }
      ]
    },
    {
      "cell_type": "markdown",
      "source": [
        " From the Module file, import only the subtraction() and pass the arguments\n",
        "so that it can display the result from the method.\n"
      ],
      "metadata": {
        "id": "GXXJLUbNXYQu"
      }
    },
    {
      "cell_type": "code",
      "source": [
        "from Module import subtraction\n",
        "\n",
        "# Use the subtraction function\n",
        "result = subtraction(15, 10)\n",
        "print(\"The difference is:\", result)\n"
      ],
      "metadata": {
        "colab": {
          "base_uri": "https://localhost:8080/"
        },
        "id": "PJDP7RuxXYh6",
        "outputId": "5c31a4f1-1168-48b1-cd6e-f34d51ef2822"
      },
      "execution_count": 7,
      "outputs": [
        {
          "output_type": "stream",
          "name": "stdout",
          "text": [
            "The difference is: 5\n"
          ]
        }
      ]
    },
    {
      "cell_type": "markdown",
      "source": [
        " From the Module file, import both the multiplication() and division() and\n",
        "pass the arguments so that it can display the result from the methods."
      ],
      "metadata": {
        "id": "1PENDwd8XkP5"
      }
    },
    {
      "cell_type": "code",
      "source": [
        "from Module import multiplication, division\n",
        "\n",
        "# Use the multiplication function\n",
        "result = multiplication(15, 10)\n",
        "print(\"The product is:\", result)\n",
        "\n",
        "# Use the division function\n",
        "result = division(15, 5)\n",
        "print(\"The quotient is:\", result)"
      ],
      "metadata": {
        "colab": {
          "base_uri": "https://localhost:8080/"
        },
        "id": "AYq4wCDnXkjs",
        "outputId": "dbc76d88-370f-4962-fb7b-091ef317d447"
      },
      "execution_count": 8,
      "outputs": [
        {
          "output_type": "stream",
          "name": "stdout",
          "text": [
            "The product is: 150\n",
            "The quotient is: 3.0\n"
          ]
        }
      ]
    }
  ]
}