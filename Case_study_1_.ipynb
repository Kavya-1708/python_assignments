{
  "nbformat": 4,
  "nbformat_minor": 0,
  "metadata": {
    "colab": {
      "provenance": [],
      "authorship_tag": "ABX9TyPWFJCYzn4MZGbNaLjSNFVx",
      "include_colab_link": true
    },
    "kernelspec": {
      "name": "python3",
      "display_name": "Python 3"
    },
    "language_info": {
      "name": "python"
    }
  },
  "cells": [
    {
      "cell_type": "markdown",
      "metadata": {
        "id": "view-in-github",
        "colab_type": "text"
      },
      "source": [
        "<a href=\"https://colab.research.google.com/github/Kavya-1708/python_assignments/blob/main/Case_study_1_.ipynb\" target=\"_parent\"><img src=\"https://colab.research.google.com/assets/colab-badge.svg\" alt=\"Open In Colab\"/></a>"
      ]
    },
    {
      "cell_type": "markdown",
      "source": [
        "Create a class named Employee, with a constructor ‘__init__’ method that\n",
        "accepts name and salary as parameters and set properties named name\n",
        "and salary.\n"
      ],
      "metadata": {
        "id": "ulhdIL1eawKd"
      }
    },
    {
      "cell_type": "code",
      "execution_count": 1,
      "metadata": {
        "id": "q68I4OZUaoDV"
      },
      "outputs": [],
      "source": [
        "class Employee:\n",
        "    def __init__(self, name, salary):\n",
        "        self.name = name\n",
        "        self.salary = salary\n"
      ]
    },
    {
      "cell_type": "markdown",
      "source": [
        "Define __str__ method in Employee class so that when someone tries to\n",
        "print the object the string Name: employee_name, Salary:\n",
        "employee_salary is printed with the actual employee name and salary.\n"
      ],
      "metadata": {
        "id": "tohJLujsa-gr"
      }
    },
    {
      "cell_type": "code",
      "source": [
        "class Employee:\n",
        "    def __init__(self, name, salary):\n",
        "        self.name = name\n",
        "        self.salary = salary\n",
        "\n",
        "    def __str__(self):\n",
        "        return f\"Name: {self.name}, Salary: {self.salary}\"\n"
      ],
      "metadata": {
        "id": "lHBIryiza-zb"
      },
      "execution_count": 2,
      "outputs": []
    },
    {
      "cell_type": "markdown",
      "source": [
        "3. Create another class named Calculator, with methods to add, subtract,\n",
        "multiply and divide two numbers.\n",
        "4. These methods take two numbers as parameters.\n",
        "5. These methods will be called by a method named execute command.\n",
        "6. Execute command takes in 3 parameters command which is string that can\n",
        "be either ‘add’, ‘sub’, ‘mul’, ‘div’, and two numbers and it will call the\n",
        "appropriate method based on command parameter.\n"
      ],
      "metadata": {
        "id": "hGDRixvFbJmS"
      }
    },
    {
      "cell_type": "code",
      "source": [
        "class Calculator:\n",
        "    def add(self, a, b):\n",
        "        return a + b\n",
        "\n",
        "    def subtract(self, a, b):\n",
        "        return a - b\n",
        "\n",
        "    def multiply(self, a, b):\n",
        "        return a * b\n",
        "\n",
        "    def divide(self, a, b):\n",
        "        if b == 0:\n",
        "            return \"Error: Division by zero is not allowed.\"\n",
        "        return a / b\n",
        "\n",
        "    def execute_command(self, command, a, b):\n",
        "        if command == 'add':\n",
        "            return self.add(a, b)\n",
        "        elif command == 'sub':\n",
        "            return self.subtract(a, b)\n",
        "        elif command == 'mul':\n",
        "            return self.multiply(a, b)\n",
        "        elif command == 'div':\n",
        "            return self.divide(a, b)\n",
        "        else:\n",
        "            return \"Invalid command\"\n",
        "\n",
        "# Example usage:\n",
        "calc = Calculator()\n",
        "print(calc.execute_command('add', 10, 5))   # 15\n",
        "print(calc.execute_command('sub', 10, 5))   # 5\n",
        "print(calc.execute_command('mul', 10, 5))   # 50\n",
        "print(calc.execute_command('div', 10, 5))   # 2.0\n",
        "print(calc.execute_command('div', 10, 0))   # Error: Division by zero is not allowed.\n",
        "print(calc.execute_command('mod', 10, 5))   # Invalid command\n"
      ],
      "metadata": {
        "colab": {
          "base_uri": "https://localhost:8080/"
        },
        "id": "QV0WWypQb8OF",
        "outputId": "78cf7f31-a951-4edd-bd42-6b1a6052224e"
      },
      "execution_count": 5,
      "outputs": [
        {
          "output_type": "stream",
          "name": "stdout",
          "text": [
            "15\n",
            "5\n",
            "50\n",
            "2.0\n",
            "Error: Division by zero is not allowed.\n",
            "Invalid command\n"
          ]
        }
      ]
    }
  ]
}