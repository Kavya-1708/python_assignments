{
  "nbformat": 4,
  "nbformat_minor": 0,
  "metadata": {
    "colab": {
      "provenance": [],
      "authorship_tag": "ABX9TyNUCLeYd7s/QebwKN3Nfz8b",
      "include_colab_link": true
    },
    "kernelspec": {
      "name": "python3",
      "display_name": "Python 3"
    },
    "language_info": {
      "name": "python"
    }
  },
  "cells": [
    {
      "cell_type": "markdown",
      "metadata": {
        "id": "view-in-github",
        "colab_type": "text"
      },
      "source": [
        "<a href=\"https://colab.research.google.com/github/Kavya-1708/python_assignments/blob/main/Pandas_casestudy1.ipynb\" target=\"_parent\"><img src=\"https://colab.research.google.com/assets/colab-badge.svg\" alt=\"Open In Colab\"/></a>"
      ]
    },
    {
      "cell_type": "code",
      "execution_count": 15,
      "metadata": {
        "id": "2i_xUcm8LQKL"
      },
      "outputs": [],
      "source": [
        "# Import libraries\n",
        "import pandas as pd\n",
        "import numpy as np\n",
        "import matplotlib.pyplot as plt\n",
        "import seaborn as sns"
      ]
    },
    {
      "cell_type": "markdown",
      "source": [
        "**Write a function that takes start and end of a range returns a pandas series object containing numbers within that range. In case the user does not pass start or end or both they should default to 1 and 10 respectively.**\n",
        "\n",
        "**E.g: -> range_series() -> Should Return a pandas series from 1 to 10 range_series(5) -> Should Return a pandas series from 5 to 10 range_series(5, 10) -> Should Return a pandas series from 5 to 15 Create a method that takes n NumPy arrays of the same dimensions, sums them and returns the answer.**\n"
      ],
      "metadata": {
        "id": "-6syFca6VFmm"
      }
    },
    {
      "cell_type": "code",
      "source": [
        "import pandas as pd\n",
        "\n",
        "def range_series(start=1, end=10):\n",
        "    return pd.Series(range(start, end+1))\n",
        "\n",
        "# Examples\n",
        "print(range_series())       # Output: Series from 1 to 10\n",
        "print(range_series(5))      # Output: Series from 5 to 10\n",
        "print(range_series(5, 15))  # Output: Series from 5 to 15\n",
        "\n",
        "import numpy as np\n",
        "\n",
        "def sum_arrays(*arrays):\n",
        "    return np.sum(arrays, axis=0)\n",
        "\n",
        "# Example\n",
        "arr1 = np.array([1, 2, 3])\n",
        "arr2 = np.array([4, 5, 6])\n",
        "arr3 = np.array([7, 8, 9])\n",
        "\n",
        "print(sum_arrays(arr1, arr2, arr3))  # Output: [12 15 18]"
      ],
      "metadata": {
        "colab": {
          "base_uri": "https://localhost:8080/"
        },
        "id": "0aWdpdhHU9og",
        "outputId": "72a246e8-a5a6-4c51-9d56-8cc0efaf326e"
      },
      "execution_count": 19,
      "outputs": [
        {
          "output_type": "stream",
          "name": "stdout",
          "text": [
            "0     1\n",
            "1     2\n",
            "2     3\n",
            "3     4\n",
            "4     5\n",
            "5     6\n",
            "6     7\n",
            "7     8\n",
            "8     9\n",
            "9    10\n",
            "dtype: int64\n",
            "0     5\n",
            "1     6\n",
            "2     7\n",
            "3     8\n",
            "4     9\n",
            "5    10\n",
            "dtype: int64\n",
            "0      5\n",
            "1      6\n",
            "2      7\n",
            "3      8\n",
            "4      9\n",
            "5     10\n",
            "6     11\n",
            "7     12\n",
            "8     13\n",
            "9     14\n",
            "10    15\n",
            "dtype: int64\n",
            "[12 15 18]\n"
          ]
        }
      ]
    },
    {
      "cell_type": "markdown",
      "source": [
        "**- Create a function that takes in two lists named keys and values as arguments Keys would be strings and contain n string values Values would be a list containing n lists The methods should return a new pandas DataFrame with keys as column names and values as their corresponding values, e.g: ->create_dataframe([\"One\", \"Two\"], [[\"X\", \"Y\"], [\"A\", \"B\"]]) -> should return a data frame One Two 0 X A 1 Y**\n"
      ],
      "metadata": {
        "id": "LvewmyJgVRuE"
      }
    },
    {
      "cell_type": "code",
      "source": [
        "def create_dataframe(keys, values):\n",
        "    return pd.DataFrame(dict(zip(keys, values)))\n",
        "\n",
        "# Example\n",
        "keys = [\"One\", \"Two\"]\n",
        "values = [[\"X\", \"Y\"], [\"A\", \"B\"]]\n",
        "\n",
        "df = create_dataframe(keys, values)\n",
        "print(df)"
      ],
      "metadata": {
        "colab": {
          "base_uri": "https://localhost:8080/"
        },
        "id": "-72C6pxhVQ3H",
        "outputId": "17696b62-8343-4594-99c0-db11bc3f59bf"
      },
      "execution_count": 20,
      "outputs": [
        {
          "output_type": "stream",
          "name": "stdout",
          "text": [
            "  One Two\n",
            "0   X   A\n",
            "1   Y   B\n"
          ]
        }
      ]
    },
    {
      "cell_type": "markdown",
      "source": [
        "**- Write code to load data from cars.csv into a dataframe and print its details. Details like: 'count', 'mean', 'std', 'min', '25%', '50%', '75%', 'max'.**"
      ],
      "metadata": {
        "id": "_xoVavvUV4bH"
      }
    },
    {
      "cell_type": "code",
      "source": [
        "df = pd.read_csv(\"cars.csv\")\n",
        "print(df.describe())"
      ],
      "metadata": {
        "colab": {
          "base_uri": "https://localhost:8080/"
        },
        "id": "HHJVCsJfWAcu",
        "outputId": "14e710a5-c406-4738-c1bf-8314c2aaa48b"
      },
      "execution_count": 21,
      "outputs": [
        {
          "output_type": "stream",
          "name": "stdout",
          "text": [
            "            S.No        mpg        cyl        disp          hp       drat  \\\n",
            "count  32.000000  32.000000  32.000000   32.000000   32.000000  32.000000   \n",
            "mean   16.500000  20.090625   6.187500  230.721875  146.687500   3.596563   \n",
            "std     9.380832   6.026948   1.785922  123.938694   68.562868   0.534679   \n",
            "min     1.000000  10.400000   4.000000   71.100000   52.000000   2.760000   \n",
            "25%     8.750000  15.425000   4.000000  120.825000   96.500000   3.080000   \n",
            "50%    16.500000  19.200000   6.000000  196.300000  123.000000   3.695000   \n",
            "75%    24.250000  22.800000   8.000000  326.000000  180.000000   3.920000   \n",
            "max    32.000000  33.900000   8.000000  472.000000  335.000000   4.930000   \n",
            "\n",
            "              wt       qsec         vs         am       gear     carb  \n",
            "count  32.000000  29.000000  32.000000  32.000000  32.000000  32.0000  \n",
            "mean    3.217250  17.674828   0.437500   0.406250   3.687500   2.8125  \n",
            "std     0.978457   1.780394   0.504016   0.498991   0.737804   1.6152  \n",
            "min     1.513000  14.500000   0.000000   0.000000   3.000000   1.0000  \n",
            "25%     2.581250  16.870000   0.000000   0.000000   3.000000   2.0000  \n",
            "50%     3.325000  17.420000   0.000000   0.000000   4.000000   2.0000  \n",
            "75%     3.610000  18.600000   1.000000   1.000000   4.000000   4.0000  \n",
            "max     5.424000  22.900000   1.000000   1.000000   5.000000   8.0000  \n"
          ]
        }
      ]
    },
    {
      "cell_type": "markdown",
      "source": [
        "**- Write a method that will take a column name as argument and return the name of the column with which the given column has the highest correlation. The data to be used is the cars dataset. The returned value should not the column named that was passed as the parameters, e.g. : get_max_correlated_column('mpg') -> should return 'drat**"
      ],
      "metadata": {
        "id": "GtFGg67_WNYw"
      }
    },
    {
      "cell_type": "code",
      "source": [
        "def get_max_correlated_column(df, column):\n",
        "    # Calculate correlations, excluding non-numeric columns\n",
        "    correlations = df.corr(numeric_only=True)[column].drop(column)\n",
        "    return correlations.idxmax()\n",
        "\n",
        "# Example\n",
        "max_correlated_col = get_max_correlated_column(df, \"mpg\")\n",
        "print(max_correlated_col)"
      ],
      "metadata": {
        "colab": {
          "base_uri": "https://localhost:8080/"
        },
        "id": "rHRimzIEWIc-",
        "outputId": "f0af0839-8cf4-4765-b31c-b0ab858b7acb"
      },
      "execution_count": 23,
      "outputs": [
        {
          "output_type": "stream",
          "name": "stdout",
          "text": [
            "drat\n"
          ]
        }
      ]
    }
  ]
}