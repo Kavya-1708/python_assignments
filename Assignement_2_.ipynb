{
  "nbformat": 4,
  "nbformat_minor": 0,
  "metadata": {
    "colab": {
      "provenance": [],
      "authorship_tag": "ABX9TyMh4Ts/x9vpF2geM103nwMe",
      "include_colab_link": true
    },
    "kernelspec": {
      "name": "python3",
      "display_name": "Python 3"
    },
    "language_info": {
      "name": "python"
    }
  },
  "cells": [
    {
      "cell_type": "markdown",
      "metadata": {
        "id": "view-in-github",
        "colab_type": "text"
      },
      "source": [
        "<a href=\"https://colab.research.google.com/github/Kavya-1708/python_assignments/blob/main/Assignement_2_.ipynb\" target=\"_parent\"><img src=\"https://colab.research.google.com/assets/colab-badge.svg\" alt=\"Open In Colab\"/></a>"
      ]
    },
    {
      "cell_type": "markdown",
      "source": [
        "Create a class named ‘Super’ and inside that class define a user-defined\n",
        "function named fun1\n",
        "a. Inside the ‘fun1’ function, pass the message “This is function 1 in the\n",
        "Super class.” in the print statement.\n"
      ],
      "metadata": {
        "id": "khh8hO-AURvv"
      }
    },
    {
      "cell_type": "code",
      "execution_count": 1,
      "metadata": {
        "colab": {
          "base_uri": "https://localhost:8080/"
        },
        "id": "hE_EqbJoTWCJ",
        "outputId": "917181a8-1e58-42f9-8973-821b8b16178a"
      },
      "outputs": [
        {
          "output_type": "stream",
          "name": "stdout",
          "text": [
            "This is function 1 in the Super class.\n"
          ]
        }
      ],
      "source": [
        "class Super:\n",
        "    def fun1(self):\n",
        "        print(\"This is function 1 in the Super class.\")\n",
        "\n",
        "# Example usage:\n",
        "obj = Super()\n",
        "obj.fun1()"
      ]
    },
    {
      "cell_type": "markdown",
      "source": [
        "Create another class named ‘Modified_Super’ and inherit this class from\n",
        "the Super class\n",
        "a. Inside the Modified_Super class, create a function named ‘fun1’ and\n",
        "pass the following message inside the print statement: ‘This is function 1 in\n",
        "the Modified Super class.’\n",
        "b. Create another user-defined function named ‘fun2’ and pass the\n",
        "message: ‘This is the 2 nd function from the Modified Super class’ in the\n",
        "print statement.\n",
        "c. After that, now create an object for the Modified_Super class and call the\n",
        "fun1()."
      ],
      "metadata": {
        "id": "JMXFQQW6UdkM"
      }
    },
    {
      "cell_type": "code",
      "source": [
        "# Super class\n",
        "class Super:\n",
        "    def fun1(self):\n",
        "        print(\"This is function 1 in the Super class.\")\n",
        "\n",
        "# Modified_Super class inherits from Super\n",
        "class Modified_Super(Super):\n",
        "    def fun1(self):\n",
        "        print(\"This is function 1 in the Modified Super class.\")\n",
        "\n",
        "    def fun2(self):\n",
        "        print(\"This is the 2nd function from the Modified Super class.\")\n",
        "\n",
        "# Create an object of Modified_Super and call fun1()\n",
        "obj = Modified_Super()\n",
        "obj.fun1()\n"
      ],
      "metadata": {
        "colab": {
          "base_uri": "https://localhost:8080/"
        },
        "id": "LIr-aHjrUkxa",
        "outputId": "04e6a4e6-fe8f-4e7b-d21c-44f960b91b4e"
      },
      "execution_count": 2,
      "outputs": [
        {
          "output_type": "stream",
          "name": "stdout",
          "text": [
            "This is function 1 in the Modified Super class.\n"
          ]
        }
      ]
    },
    {
      "cell_type": "markdown",
      "source": [
        "Create 2 methods named ‘Hello’. In the 1st Hello method, pass only one\n",
        "argument and pass this message: ‘This function is only having 1\n",
        "argument’. And in the 2nd Hello method, pass two arguments and pass\n",
        "this message: ‘This function is having 2 arguments’.\n",
        "a. Try to call both the methods and analyze the output of both the methods."
      ],
      "metadata": {
        "id": "ut2IQezjUqg2"
      }
    },
    {
      "cell_type": "code",
      "source": [
        "class MyClass:\n",
        "    def Hello(self, *args):\n",
        "        if len(args) == 1:\n",
        "            print(\"This function is only having 1 argument\")\n",
        "        elif len(args) == 2:\n",
        "            print(\"This function is having 2 arguments\")\n",
        "        else:\n",
        "            print(\"This function is not handling more than 2 arguments\")\n",
        "\n",
        "# Create object\n",
        "obj = MyClass()\n",
        "\n",
        "# Call Hello() with 1 argument\n",
        "obj.Hello(10)\n",
        "\n",
        "# Call Hello() with 2 arguments\n",
        "obj.Hello(10, 20)\n",
        "\n",
        "# Try calling Hello() with no argument (just for analysis)\n",
        "obj.Hello()\n"
      ],
      "metadata": {
        "colab": {
          "base_uri": "https://localhost:8080/"
        },
        "id": "KFXb0INOUqMA",
        "outputId": "8e2c17a0-98f4-42d8-9bbf-693421199dbc"
      },
      "execution_count": 3,
      "outputs": [
        {
          "output_type": "stream",
          "name": "stdout",
          "text": [
            "This function is only having 1 argument\n",
            "This function is having 2 arguments\n",
            "This function is not handling more than 2 arguments\n"
          ]
        }
      ]
    },
    {
      "cell_type": "markdown",
      "source": [
        "Create a method named 'Sum' that can accept multiple user inputs.Now add those user defined input value using for loop and the function should return the addition of the numbers."
      ],
      "metadata": {
        "id": "CQhy81mRUyp8"
      }
    },
    {
      "cell_type": "code",
      "source": [
        "def Sum():\n",
        "    # Take input from user (comma-separated)\n",
        "    numbers = input(\"Enter numbers separated by spaces: \").split()\n",
        "\n",
        "    # Convert to integers\n",
        "    numbers = [int(num) for num in numbers]\n",
        "\n",
        "    total = 0\n",
        "    for num in numbers:\n",
        "        total += num\n",
        "\n",
        "    return total\n",
        "\n",
        "# Example usage\n",
        "result = Sum()\n",
        "print(\"The sum of the numbers is:\", result)\n"
      ],
      "metadata": {
        "colab": {
          "base_uri": "https://localhost:8080/"
        },
        "id": "V65Ti5XvUy88",
        "outputId": "90f722d4-45c2-49b5-db88-c28e42fdcdf5"
      },
      "execution_count": 4,
      "outputs": [
        {
          "output_type": "stream",
          "name": "stdout",
          "text": [
            "Enter numbers separated by spaces: 1 2 3 4 \n",
            "The sum of the numbers is: 10\n"
          ]
        }
      ]
    },
    {
      "cell_type": "markdown",
      "source": [
        "Create a class named ‘Encapsulation’:\n",
        "a. Inside the class, first create a constructor. Inside the constructor,\n",
        "initialize originalValue variable as 10.\n",
        "b. After creating the constructor, define a function named ‘Value’ and this\n",
        "function should return the variable that we have initialized in the constructor"
      ],
      "metadata": {
        "id": "ufkNVy1lVYdI"
      }
    },
    {
      "cell_type": "code",
      "source": [
        "class Encapsulation:\n",
        "    def __init__(self):\n",
        "        # Initializing variable in constructor\n",
        "        self.originalValue = 10\n",
        "\n",
        "    def Value(self):\n",
        "        return self.originalValue\n",
        "\n",
        "    def setValue(self, newValue):\n",
        "        self.originalValue = newValue\n",
        "\n",
        "# Example usage\n",
        "obj = Encapsulation()\n",
        "print(\"Original Value:\", obj.Value())  # Output: 10\n",
        "\n",
        "obj.setValue(25)  # Update value\n",
        "print(\"Updated Value:\", obj.Value())   # Output: 25\n",
        "\n"
      ],
      "metadata": {
        "colab": {
          "base_uri": "https://localhost:8080/"
        },
        "id": "Iy3KXlAcVY76",
        "outputId": "8bb25013-c52f-4a02-dd45-c9dc604154a6"
      },
      "execution_count": 6,
      "outputs": [
        {
          "output_type": "stream",
          "name": "stdout",
          "text": [
            "Original Value: 10\n",
            "Updated Value: 25\n"
          ]
        }
      ]
    }
  ]
}