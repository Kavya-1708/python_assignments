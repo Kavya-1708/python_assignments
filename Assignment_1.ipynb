{
  "nbformat": 4,
  "nbformat_minor": 0,
  "metadata": {
    "colab": {
      "provenance": [],
      "authorship_tag": "ABX9TyOuKPn22uazjVFxmFoC+vat",
      "include_colab_link": true
    },
    "kernelspec": {
      "name": "python3",
      "display_name": "Python 3"
    },
    "language_info": {
      "name": "python"
    }
  },
  "cells": [
    {
      "cell_type": "markdown",
      "metadata": {
        "id": "view-in-github",
        "colab_type": "text"
      },
      "source": [
        "<a href=\"https://colab.research.google.com/github/Kavya-1708/python_assignments/blob/main/Assignment_1.ipynb\" target=\"_parent\"><img src=\"https://colab.research.google.com/assets/colab-badge.svg\" alt=\"Open In Colab\"/></a>"
      ]
    },
    {
      "cell_type": "code",
      "source": [
        "# Create a function named 'factor' that can only accept 1 argument. The function should return the factorial of that number.\n",
        "def factor(n):\n",
        "    \"Returns the factorial of the given number.\"\n",
        "    if not isinstance(n, int) or n < 0:\n",
        "        raise ValueError(\"Input must be a non-negative integer.\")\n",
        "\n",
        "    result = 1\n",
        "    for i in range(1, n + 1):\n",
        "        result *= i\n",
        "    return result\n",
        "\n",
        "# Example usage\n",
        "print(factor(5))  # Output: 120"
      ],
      "metadata": {
        "colab": {
          "base_uri": "https://localhost:8080/"
        },
        "id": "COjp7h1GO3Lg",
        "outputId": "3e499cc3-20e3-4d05-9d85-ac4d46a17962"
      },
      "execution_count": 1,
      "outputs": [
        {
          "output_type": "stream",
          "name": "stdout",
          "text": [
            "120\n"
          ]
        }
      ]
    },
    {
      "cell_type": "code",
      "source": [
        "#Create a function named ‘check_string’, the function should accept a string data from the user and the function should check if the user input contains the letter ‘s’ in it. If it contains the letter ‘s’ then print- ‘The string i the letter ‘s’’, if not then print- ‘The string doesn’t contain theletter ‘s’’.\n",
        "def check_string():\n",
        "    data = input(\"Enter a string: \")\n",
        "    if 's' in data or 'S' in data:\n",
        "        print(\"The string is containing the letter 's'\")\n",
        "    else:\n",
        "        print(\"The string doesn’t contain the letter 's'\")\n",
        "\n",
        "# Example usage\n",
        "check_string()"
      ],
      "metadata": {
        "colab": {
          "base_uri": "https://localhost:8080/"
        },
        "id": "FDX_btDkQSyz",
        "outputId": "58e97889-be32-461b-dade-2e0396593148"
      },
      "execution_count": 5,
      "outputs": [
        {
          "output_type": "stream",
          "name": "stdout",
          "text": [
            "Enter a string: Hello\n",
            "The string doesn’t contain the letter 's'\n"
          ]
        }
      ]
    },
    {
      "cell_type": "code",
      "source": [
        "# Create a class named ‘student’ and inside the class, create a function 'fun1'\n",
        "# Create another method named- message() and that method should print the user defined input that we have defined in ‘fun1’.\n",
        "class student:\n",
        "    def fun1(self):\n",
        "        self.user_input = input(\"Enter your input: \")\n",
        "        return self.user_input\n",
        "\n",
        "    def message(self):\n",
        "        print(\"The user defined input is:\", self.user_input)\n",
        "\n",
        "# Example usage:\n",
        "obj = student()\n",
        "obj.fun1()\n",
        "obj.message()\n"
      ],
      "metadata": {
        "colab": {
          "base_uri": "https://localhost:8080/"
        },
        "id": "m3Oc6TPTQooL",
        "outputId": "b433631f-2345-428b-a560-20752dc5d703"
      },
      "execution_count": 6,
      "outputs": [
        {
          "output_type": "stream",
          "name": "stdout",
          "text": [
            "Enter your input: Kavya\n",
            "The user defined input is: Kavya\n"
          ]
        }
      ]
    },
    {
      "cell_type": "code",
      "source": [
        "#Create a lambda function that should double or multiply the number (that we will be passing in the lambda function) by 2. Store the lambda function in a variable named ‘double_num’\n",
        "\n",
        "# Lambda function to double a number\n",
        "double_num = lambda x: x * 2\n",
        "\n",
        "# Example usage:\n",
        "print(double_num(5))  # Output: 10\n",
        "print(double_num(10)) # Output: 20\n"
      ],
      "metadata": {
        "colab": {
          "base_uri": "https://localhost:8080/"
        },
        "id": "yUb9DFmERcIO",
        "outputId": "26f45a35-091d-4ff4-db99-5ede73daafcf"
      },
      "execution_count": 7,
      "outputs": [
        {
          "output_type": "stream",
          "name": "stdout",
          "text": [
            "10\n",
            "20\n"
          ]
        }
      ]
    },
    {
      "cell_type": "code",
      "source": [
        "# Check whether the inputed value is palindrome or not\n",
        "# Take input from the user\n",
        "user_input = input(\"Enter a string: \")\n",
        "\n",
        "# Check for palindrome\n",
        "if user_input == user_input[::-1]:\n",
        "    print(\"The string is a palindrome.\")\n",
        "else:\n",
        "    print(\"The string is not a palindrome.\")\n"
      ],
      "metadata": {
        "colab": {
          "base_uri": "https://localhost:8080/"
        },
        "id": "EebdCiBpR0A1",
        "outputId": "cdcaeaa2-1fb9-43ce-ad4d-c11ae04bf817"
      },
      "execution_count": 9,
      "outputs": [
        {
          "output_type": "stream",
          "name": "stdout",
          "text": [
            "Enter a string: Sunny\n",
            "The string is not a palindrome.\n"
          ]
        }
      ]
    }
  ]
}